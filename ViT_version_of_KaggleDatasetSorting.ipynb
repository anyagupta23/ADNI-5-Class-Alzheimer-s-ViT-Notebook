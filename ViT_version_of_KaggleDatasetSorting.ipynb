{
  "cells": [
    {
      "cell_type": "code",
      "execution_count": null,
      "metadata": {
        "colab": {
          "base_uri": "https://localhost:8080/"
        },
        "id": "VsvrrD-53Hmg",
        "outputId": "66aaec7b-c590-4b6f-f056-4a5347af59b1"
      },
      "outputs": [
        {
          "output_type": "stream",
          "name": "stdout",
          "text": [
            "Mounted at /content/drive\n",
            "/content\n",
            "Collecting vit-keras\n",
            "  Downloading vit_keras-0.1.2-py3-none-any.whl (24 kB)\n",
            "Requirement already satisfied: scipy in /usr/local/lib/python3.10/dist-packages (from vit-keras) (1.11.3)\n",
            "Collecting validators (from vit-keras)\n",
            "  Downloading validators-0.22.0-py3-none-any.whl (26 kB)\n",
            "Requirement already satisfied: numpy<1.28.0,>=1.21.6 in /usr/local/lib/python3.10/dist-packages (from scipy->vit-keras) (1.23.5)\n",
            "Installing collected packages: validators, vit-keras\n",
            "Successfully installed validators-0.22.0 vit-keras-0.1.2\n",
            "Collecting tensorflow-addons\n",
            "  Downloading tensorflow_addons-0.22.0-cp310-cp310-manylinux_2_17_x86_64.manylinux2014_x86_64.whl (612 kB)\n",
            "\u001b[2K     \u001b[90m━━━━━━━━━━━━━━━━━━━━━━━━━━━━━━━━━━━━━━━━\u001b[0m \u001b[32m612.3/612.3 kB\u001b[0m \u001b[31m6.5 MB/s\u001b[0m eta \u001b[36m0:00:00\u001b[0m\n",
            "\u001b[?25hRequirement already satisfied: packaging in /usr/local/lib/python3.10/dist-packages (from tensorflow-addons) (23.2)\n",
            "Collecting typeguard<3.0.0,>=2.7 (from tensorflow-addons)\n",
            "  Downloading typeguard-2.13.3-py3-none-any.whl (17 kB)\n",
            "Installing collected packages: typeguard, tensorflow-addons\n",
            "Successfully installed tensorflow-addons-0.22.0 typeguard-2.13.3\n"
          ]
        }
      ],
      "source": [
        "from google.colab import drive\n",
        "drive.mount('/content/drive')\n",
        "!pwd\n",
        "!pip install vit-keras\n",
        "!pip install tensorflow-addons"
      ]
    },
    {
      "cell_type": "code",
      "execution_count": null,
      "metadata": {
        "colab": {
          "base_uri": "https://localhost:8080/"
        },
        "id": "xLSfwhZ89gVJ",
        "outputId": "4e711ece-8017-48fe-b901-62f539a30dc8"
      },
      "outputs": [
        {
          "output_type": "stream",
          "name": "stdout",
          "text": [
            "['ADNI_002_S_4229_MR_Axial_T2-Star__br_raw_20151208115458310_22_S325498_I573624.jpg', 'ADNI_037_S_4214_MR_AX_T2_STAR_br_raw_20151016131519075_22_S285610_I527060.jpg', 'ADNI_019_S_4293_MR_Axial_T2_Star__br_raw_20170608151650233_22_S571711_I860225.jpg', 'ADNI_037_S_4015_MR_AX_T2_STAR_br_raw_20150408093423130_22_S254853_I484012.jpg', 'ADNI_135_S_4723_MR_Axial_T2_TSE_with_Fat_Sat__br_raw_20160511152940567_22_S437654_I703847.jpg', 'ADNI_135_S_4722_MR_AXIAL_T2_STAR__br_raw_20160512162006535_22_S438702_I705051.jpg', 'ADNI_128_S_4842_MR_AX_T2_STAR_NO_ANGLE__br_raw_20160815104743989_22_S491322_I766321.jpg', 'ADNI_035_S_4414_MR_Axial_T2_STAR__br_raw_20171005165451230_22_S618074_I915042.jpg', 'ADNI_035_S_4582_MR_Axial_T2_TSE_with_Fat_Sat__br_raw_20150414115838382_22_S255685_I486921.jpg', 'ADNI_067_S_4782_MR_Axial_T2_TSE_with_Fat_Sat__br_raw_20160808113938308_22_S489777_I764169.jpg', 'ADNI_127_S_4210_MR_Axial_T2_Star__br_raw_20191011104629579_22_S883328_I1239762.jpg', 'ADNI_037_S_4381_MR_AX_T2_STAR_br_raw_20160603155040365_22_S455192_I723956.jpg', 'ADNI_027_S_4869_MR_Axial_T2_Star__br_raw_20180125162851185_22_S653409_I957125.jpg', 'ADNI_023_S_4035_MR_Axial_T2_TSE_with_Fat_Sat__br_raw_20151026170730265_22_S291324_I533856.jpg', 'ADNI_123_S_4170_MR_Axial_T2_Star__br_raw_20190307122354391_22_S804268_I1139947.jpg', 'ADNI_126_S_4458_MR_Ax_T2_FSE_with_Fat_Sat_br_raw_20160216170324380_22_S376033_I632569.jpg', 'ADNI_009_S_4324_MR_Axial_T2_Star__br_raw_20180713114646435_22_S704283_I1020616.jpg', 'ADNI_135_S_4722_MR_Axial_T2_Star__br_raw_20170622151404801_22_S574105_I863100.jpg', 'ADNI_006_S_4713_MR_Axial_T2_Star__br_raw_20191119091313965_22_S898245_I1257926.jpg', 'ADNI_130_S_4542_MR_Axial_T2-Star__br_raw_20160331152455099_22_S406059_I666442.jpg', 'ADNI_052_S_4807_MR_Axial_T2_Star__br_raw_20150806154516382_22_S268217_I504307.jpg', 'ADNI_127_S_4210_MR_Axial_T2_Star__br_raw_20170918192518465_22_S609727_I905323.jpg', 'ADNI_127_S_4928_MR_Axial_T2_Star__br_raw_20160920120403890_22_S500411_I777509.jpg', 'ADNI_130_S_4294_MR_Axial_T2_Star__br_raw_20171102172554791_22_S627589_I926295.jpg', 'ADNI_128_S_4842_MR_AX_T2_FLAIR_NO_ANGLE_br_raw_20160815105023090_22_S491315_I766312.jpg', 'ADNI_127_S_4928_MR_Ax_T2_FSE_with_Fat_Sat_br_raw_20160920120404312_22_S500404_I777498.jpg', 'ADNI_009_S_4324_MR_AXIAL_T2_STAR__br_raw_20160215170055895_22_S375456_I631878.jpg', 'ADNI_007_S_4611_MR_Axial_T2_Star__br_raw_20160427095917517_22_S430733_I695055.jpg', 'ADNI_003_S_4354_MR_Axial_T2_STAR__br_raw_20190627123527317_22_S836975_I1181463.jpg', 'ADNI_022_S_4444_MR_AXIAL_T2_STAR__br_raw_20160919134624294_22_S499739_I776717.jpg', 'ADNI_027_S_4869_MR_Axial_T2_Star__br_raw_20200219142008973_22_S926036_I1292922.jpg', 'ADNI_002_S_4229_MR_Axial_T2_STAR__br_raw_20170921122709574_22_S610930_I906802.jpg', 'ADNI_036_S_4715_MR_AX_T2_STAR_br_raw_20160607150252484_22_S458466_I727721.jpg', 'ADNI_037_S_4302_MR_Axial_T2_TSE_with_Fat_Sat__br_raw_20151202134708016_22_S321073_I568504.jpg', 'ADNI_035_S_4582_MR_AXIAL_T2_STAR__br_raw_20150414115825464_22_S255686_I486923.jpg', 'ADNI_009_S_4741_MR_AXIAL_T2_STAR__br_raw_20160920011600884_22_S499960_I776965.jpg', 'ADNI_135_S_4722_MR_Axial_T2_TSE_with_Fat_Sat__br_raw_20160512162007362_22_S438703_I705052.jpg', 'ADNI_114_S_5047_MR_AXIAL_T2_STAR__br_raw_20151229170706967_22_S339401_I589612.jpg', 'ADNI_130_S_4817_MR_Axial_T2_Star__br_raw_20170421173646045_22_S556878_I841951.jpg', 'ADNI_007_S_4611_MR_Axial_T2-FSE_with_FAT_SAT__br_raw_20160427100203488_22_S430736_I695058.jpg', 'ADNI_127_S_4210_MR_Ax_T2_FSE_with_Fat_Sat_br_raw_20161005082152089_22_S503379_I781040.jpg', 'ADNI_035_S_4114_MR_Axial_T2_STAR_rpt__br_raw_20171018162051642_22_S621796_I919449.jpg', 'ADNI_094_S_4162_MR_Axial_T2_Star__br_raw_20151007154854326_22_S283491_I523007.jpg', 'ADNI_002_S_4654_MR_Axial_T2_STAR__br_raw_20180524095619851_22_S689132_I1001981.jpg', 'ADNI_037_S_4302_MR_Axial_T2_STAR__br_raw_20170125144536704_22_S530415_I812266.jpg', 'ADNI_052_S_4885_MR_Axial_T2_Star__br_raw_20160912121410802_22_S498278_I774915.jpg', 'ADNI_941_S_4187_MR_Axial_T2_STAR__br_raw_20170606130346551_22_S570533_I858855.jpg', 'ADNI_130_S_4817_MR_Axial_T2_Star__br_raw_20180508100119385_22_S683227_I994493.jpg', 'ADNI_126_S_4896_MR_Axial_T2_Star__br_raw_20160831093840421_22_S494933_I770856.jpg', 'ADNI_024_S_4169_MR_Axial_T2_STAR__br_raw_20170831181301322_22_S604270_I898941.jpg', 'ADNI_109_S_4531_MR_Axial_T2_Star__br_raw_20160426102518335_22_S430013_I694248.jpg', 'ADNI_127_S_4210_MR_Axial_T2_Star__br_raw_20150916103246719_22_S274600_I512382.jpg', 'ADNI_035_S_4114_MR_AXIAL_T2_STAR__br_raw_20160826112036823_22_S494142_I769860.jpg', 'ADNI_035_S_4414_MR_AXIAL_T2_STAR__br_raw_20160613165532185_22_S463709_I733872.jpg', 'ADNI_036_S_4715_MR_Axial_T2_TSE_with_Fat_Sat__br_raw_20160607150259485_22_S458462_I727717.jpg', 'ADNI_027_S_4869_MR_Axial_T2_Star__br_raw_20161011115751193_22_S497886_I774428.jpg', 'ADNI_036_S_4714_MR_Axial_T2_TSE_with_Fat_Sat__br_raw_20160621083447215_22_S470799_I741924.jpg', 'ADNI_135_S_4723_MR_Axial_T2_Star__br_raw_20190625171318632_22_S836127_I1180386.jpg', 'ADNI_036_S_4715_MR_Axial_T2_Star__br_raw_20171012164811353_22_S619205_I916554.jpg', 'ADNI_130_S_4294_MR_Axial_T2-Star__br_raw_20151216211518892_22_S332494_I581898.jpg', 'ADNI_072_S_4394_MR_AXIAL_T2_STAR__br_raw_20150507120935658_22_S247868_I472338.jpg', 'ADNI_036_S_4430_MR_AX_T2_STAR_br_raw_20160216113538689_22_S375947_I632443.jpg', 'ADNI_035_S_4114_MR_Axial_T2_STAR__br_raw_20171018162058480_22_S621797_I919450.jpg', 'ADNI_126_S_4896_MR_Axial_T2_Star__br_raw_20180807162736307_22_S713510_I1032134.jpg', 'ADNI_016_S_4902_MR_Axial_T2_Star__br_raw_20200130082147333_22_S917452_I1282314.jpg', 'ADNI_002_S_4229_MR_Axial_T2_STAR__br_raw_20180920102955004_22_S728699_I1050348.jpg', 'ADNI_130_S_4294_MR_Axial_T2_Star__br_raw_20200805112633171_22_S900629_I1260970.jpg', 'ADNI_036_S_4430_MR_Axial_T2_TSE_with_Fat_Sat__br_raw_20160216113539115_22_S375942_I632437.jpg', 'ADNI_037_S_4214_MR_Axial_T2_STAR__br_raw_20170213140505674_22_S535778_I818412.jpg', 'ADNI_126_S_4458_MR_Axial_T2_Star__br_raw_20160216170358512_22_S376032_I632568.jpg', 'ADNI_137_S_4631_MR_Axial_T2_TSE_with_Fat_Sat__br_raw_20160614133713607_22_S464255_I734495.jpg', 'ADNI_127_S_4210_MR_Ax_T2_FSE_with_Fat_Sat_br_raw_20150916102750418_22_S274607_I512392.jpg', 'ADNI_036_S_4538_MR_Axial_T2_TSE_with_Fat_Sat__br_raw_20160606101809915_22_S457969_I727123.jpg', 'ADNI_036_S_4538_MR_AX_T2_STAR_br_raw_20160606101820297_22_S457965_I727119.jpg', 'ADNI_128_S_4842_MR_AX_T2_TSE_with_Fat_Sat_br_raw_20160815104902070_22_S491313_I766310.jpg', 'ADNI_130_S_4294_MR_Axial_T2_Star__br_raw_20190327142051217_22_S810507_I1147959.jpg', 'ADNI_002_S_4654_MR_Axial_T2_STAR__br_raw_20180524095619996_22_S689131_I1001980.jpg', 'ADNI_023_S_4115_MR_AXIAL_T2_STAR__br_raw_20160219170351509_22_S378608_I635456.jpg', 'ADNI_019_S_4293_MR_Axial_T2-Star__br_raw_20151021150623932_22_S289586_I531783.jpg', 'ADNI_009_S_4324_MR_Axial_T2_Star__br_raw_20190712190312210_22_S840984_I1186574.jpg', 'ADNI_128_S_4636_MR_AX_T2_TSE_with_Fat_Sat_br_raw_20160503094953530_22_S433096_I698470.jpg', 'ADNI_037_S_4030_MR_AX_T2_STAR_br_raw_20150527140907549_22_S261405_I494761.jpg', 'ADNI_051_S_4929_MR_AXIAL_T2_STAR__br_raw_20150127114432138_22_S246407_I470388.jpg', 'ADNI_012_S_4094_MR_Axial_T2-Star__br_raw_20150827190004590_22_S270249_I507165.jpg', 'ADNI_068_S_4061_MR_AXIAL_T2_STAR__br_raw_20161109131537076_22_S512219_I791869.jpg', 'ADNI_003_S_4354_MR_Axial_T2_STAR__raw_20181219164830148_22_S762851_I1091958.jpg', 'ADNI_035_S_4114_MR_AXIAL_T2_STAR__br_raw_20150827144451984_22_S270239_I507153.jpg', 'ADNI_016_S_4902_MR_Axial_T2_Star__br_raw_20180720132728305_22_S706788_I1023728.jpg', 'ADNI_130_S_4294_MR_Axial_T2_Star_REPEAT_br_raw_20190327140247306_22_S810508_I1147960.jpg', 'ADNI_035_S_4582_MR_Axial_T2_TSE_with_Fat_Sat__br_raw_20160606154950312_22_S458055_I727239.jpg', 'ADNI_135_S_4489_MR_Axial_T2_Star__br_raw_20190529145359168_22_S827403_I1169361.jpg', 'ADNI_006_S_4960_MR_Axial_T2_Star__br_raw_20180529153807274_22_S690437_I1003608.jpg', 'ADNI_128_S_4636_MR_AX_T2_FLAIR_NO_ANGLE_br_raw_20160503094900896_22_S433097_I698480.jpg', 'ADNI_006_S_4713_MR_Axial_T2-TSE_with_Fat_Sat__br_raw_20160602145736006_22_S454263_I722886.jpg', 'ADNI_135_S_4723_MR_AXIAL_T2_STAR__br_raw_20160511152948118_22_S437655_I703848.jpg', 'ADNI_036_S_4538_MR_Axial_T2_Star__br_raw_20171106125217645_22_S628491_I927355.jpg', 'ADNI_123_S_4170_MR_Axial_T2_Star__br_raw_20191018100524355_22_S885403_I1242310.jpg', 'ADNI_002_S_4654_MR_Axial_T2_STAR__br_raw_20170505115551172_22_S562123_I848002.jpg', 'ADNI_023_S_4502_MR_AXIAL_T2_STAR__br_raw_20160412110937743_22_S417008_I678775.jpg', 'ADNI_126_S_4507_MR_Axial_T2_Star__br_raw_20180529121028839_22_S690219_I1003341.jpg', 'ADNI_037_S_4030_MR_Axial_T2_STAR__br_raw_20170908153000546_22_S606711_I901708.jpg', 'ADNI_036_S_4714_MR_AX_T2_STAR_br_raw_20160621083440441_22_S470803_I741930.jpg', 'ADNI_130_S_4294_MR_Axial_T2-TSE_with_Fat_Sat__br_raw_20151216211145858_22_S332492_I581894.jpg', 'ADNI_114_S_5047_MR_Axial_T2_Star__br_raw_20180815152020164_22_S716832_I1036018.jpg', 'ADNI_035_S_4114_MR_AXIAL_T2_STAR_rpt__br_raw_20160826112048411_22_S494141_I769859.jpg', 'ADNI_012_S_4094_MR_Axial_T2_STAR__br_raw_20181129093307354_22_S752693_I1079427.jpg', 'ADNI_035_S_4582_MR_AXIAL_T2_STAR__br_raw_20160606155016278_22_S458048_I727228.jpg', 'ADNI_135_S_4722_MR_Axial_T2_Star__br_raw_20180706132320971_22_S701883_I1017752.jpg', 'ADNI_135_S_4489_MR_Axial_T2_Star__br_raw_20170606151714816_22_S570651_I858985.jpg', 'ADNI_129_S_4287_MR_Axial_T2_Star__br_raw_20151215131552858_22_S331800_I581084.jpg', 'ADNI_127_S_4210_MR_Axial_T2_Star__br_raw_20161005082123510_22_S503383_I781047.jpg', 'ADNI_127_S_4210_MR_Axial_T2_Star__br_raw_20181221133743152_22_S757182_I1085330.jpg', 'ADNI_003_S_4354_MR_Axial_T2_Star__br_raw_20160212152304887_22_S372912_I628938.jpg', 'ADNI_002_S_4654_MR_Axial_T2-Star__br_raw_20160420150257741_22_S424505_I687385.jpg', 'ADNI_027_S_4869_MR_Axial_T2_Star__br_raw_20170504171405990_22_S561531_I847363.jpg', 'ADNI_027_S_4869_MR_Axial_T2_Star__br_raw_20190131103843445_22_S790235_I1122660.jpg', 'ADNI_135_S_4489_MR_Axial_T2_TSE_with_Fat_Sat__br_raw_20160222111604780_22_S381221_I638464.jpg', 'ADNI_019_S_4293_MR_Axial_T2-TSE_with_Fat_Sat__br_raw_20151021151524596_22_S289587_I531784.jpg', 'ADNI_041_S_4510_MR_AXIAL_T2_STAR__br_raw_20160315091324762_22_S395903_I654970.jpg', 'ADNI_037_S_4030_MR_Axial_T2_TSE_with_Fat_Sat__br_raw_20150527140957781_22_S261401_I494754.jpg', 'ADNI_023_S_4035_MR_AXIAL_T2_STAR__br_raw_20151026170926484_22_S291320_I533852.jpg', 'ADNI_130_S_4817_MR_Axial_T2-Star__br_raw_20160726100436026_22_S487322_I761014.jpg', 'ADNI_035_S_4414_MR_AXIAL_T2_STAR__br_raw_20150414115529680_22_S255673_I486907.jpg', 'ADNI_068_S_4061_MR_Axial_T2_STAR__br_raw_20191126153218743_22_S900048_I1260282.jpg', 'ADNI_009_S_4359_MR_AXIAL_T2_STAR__br_raw_20160217094044612_22_S376828_I633467.jpg', 'ADNI_003_S_4354_MR_Axial_T2_STAR__br_raw_20170623130136657_22_S574600_I863646.jpg', 'ADNI_068_S_4061_MR_Axial_T2_STAR__br_raw_20171002172706694_22_S616721_I913436.jpg', 'ADNI_137_S_4631_MR_AX_T2_STAR_br_raw_20160614133714497_22_S464253_I734493.jpg', 'ADNI_126_S_4896_MR_Axial_T2_Star__br_raw_20190821114329121_22_S863232_I1214815.jpg', 'ADNI_009_S_4543_MR_AXIAL_T2_STAR__br_raw_20160405133212315_22_S410542_I671449.jpg', 'ADNI_006_S_4713_MR_Axial_T2-Star__br_raw_20160602150052728_22_S454260_I722882.jpg', 'ADNI_135_S_4489_MR_Axial_T2_Star__br_raw_20180601132828769_22_S691279_I1004651.jpg', 'ADNI_123_S_4170_MR_AXIAL_T2_STAR__br_raw_20151023085212899_22_S291201_I533672.jpg', 'ADNI_067_S_4767_MR_Axial_T2_STAR__br_raw_20170605172339832_22_S570236_I858534.jpg', 'ADNI_016_S_4902_MR_Axial_T2_Star__br_raw_20160404092009544_22_S410089_I670936.jpg', 'ADNI_135_S_4723_MR_Axial_T2_Star__br_raw_20170621124635616_22_S573872_I862837.jpg', 'ADNI_941_S_4187_MR_Axial_T2_TSE_with_Fat_Sat__br_raw_20160413150025583_22_S418019_I679917.jpg', 'ADNI_127_S_4197_MR_Axial_T2_Star__br_raw_20150921171121749_22_S277195_I515373.jpg', 'ADNI_116_S_4167_MR_AXIAL_T2_STAR__br_raw_20150909171729754_22_S272621_I510100.jpg', 'ADNI_002_S_4521_MR_Axial_T2-Star__br_raw_20150507104805054_22_S258648_I491174.jpg', 'ADNI_153_S_4077_MR_AXIAL_T2_STAR__br_raw_20150715100809213_22_S266249_I501537.jpg', 'ADNI_126_S_4896_MR_Axial_T2_Star__br_raw_20190821114322630_22_S863231_I1214814.jpg', 'ADNI_052_S_4945_MR_Axial_T2_Star__br_raw_20150107162254613_22_S244632_I467910.jpg', 'ADNI_012_S_4094_MR_Axial_T2_STAR__br_raw_20191217140041009_22_S906071_I1267861.jpg', 'ADNI_128_S_4636_MR_AX_T2_STAR_NO_ANGLE__br_raw_20160503095138935_22_S433100_I698479.jpg']\n"
          ]
        }
      ],
      "source": [
        "import os\n",
        "from PIL import Image\n",
        "\n",
        "folder_path = '/content/drive/My Drive/5-Stages-Alzheimers-Dataset/train/5 Final AD JPEG' #add folder here\n",
        "\n",
        "image_files = [f for f in os.listdir(folder_path) if os.path.isfile(os.path.join(folder_path, f))]\n",
        "print(image_files)\n",
        "\n",
        "images = []\n",
        "\n",
        "for file_name in image_files:\n",
        "    if file_name.lower().endswith(('.jpg', '.jpeg')):\n",
        "        image = Image.open(os.path.join(folder_path, file_name))\n",
        "        images.append(image)\n"
      ]
    },
    {
      "cell_type": "code",
      "execution_count": null,
      "metadata": {
        "id": "GaUl4hq09V4P",
        "colab": {
          "base_uri": "https://localhost:8080/"
        },
        "outputId": "6d7c6162-9702-4d2d-ef68-d1b07c2b32a5"
      },
      "outputs": [
        {
          "output_type": "stream",
          "name": "stderr",
          "text": [
            "/usr/local/lib/python3.10/dist-packages/tensorflow_addons/utils/tfa_eol_msg.py:23: UserWarning: \n",
            "\n",
            "TensorFlow Addons (TFA) has ended development and introduction of new features.\n",
            "TFA has entered a minimal maintenance and release mode until a planned end of life in May 2024.\n",
            "Please modify downstream libraries to take dependencies from other repositories in our TensorFlow community (e.g. Keras, Keras-CV, and Keras-NLP). \n",
            "\n",
            "For more information see: https://github.com/tensorflow/addons/issues/2807 \n",
            "\n",
            "  warnings.warn(\n"
          ]
        },
        {
          "output_type": "stream",
          "name": "stdout",
          "text": [
            "Found 1101 images belonging to 5 classes.\n",
            "Found 195 images belonging to 5 classes.\n",
            "Downloading data from https://github.com/faustomorales/vit-keras/releases/download/dl/ViT-B_16_imagenet21k+imagenet2012.npz\n",
            "347502902/347502902 [==============================] - 5s 0us/step\n"
          ]
        },
        {
          "output_type": "stream",
          "name": "stderr",
          "text": [
            "/usr/local/lib/python3.10/dist-packages/vit_keras/utils.py:81: UserWarning: Resizing position embeddings from 24, 24 to 16, 16\n",
            "  warnings.warn(\n"
          ]
        },
        {
          "output_type": "stream",
          "name": "stdout",
          "text": [
            "Epoch 1/30\n"
          ]
        }
      ],
      "source": [
        "import tensorflow as tf\n",
        "from tensorflow.keras.preprocessing.image import ImageDataGenerator\n",
        "from vit_keras import vit\n",
        "\n",
        "train_data_dir = '/content/drive/My Drive/5-Stages-Alzheimers-Dataset/train/'\n",
        "test_data_dir = '/content/drive/My Drive/5-Stages-Alzheimers-Dataset/test/'\n",
        "\n",
        "image_size = (256, 256)\n",
        "batch_size = 36\n",
        "\n",
        "train_datagen = ImageDataGenerator(\n",
        "    rescale=1./255,\n",
        "    rotation_range=20,\n",
        "    width_shift_range=0.2,\n",
        "    height_shift_range=0.2,\n",
        "    horizontal_flip=True,\n",
        "    fill_mode='nearest')\n",
        "\n",
        "test_datagen = ImageDataGenerator(rescale=1./255)\n",
        "train_generator = train_datagen.flow_from_directory(\n",
        "    train_data_dir,\n",
        "    target_size=image_size,\n",
        "    batch_size=batch_size,\n",
        "    class_mode='categorical')\n",
        "\n",
        "test_generator = test_datagen.flow_from_directory(\n",
        "    test_data_dir,\n",
        "    target_size=image_size,\n",
        "    batch_size=batch_size,\n",
        "    class_mode='categorical')\n",
        "\n",
        "model = vit.vit_b16(\n",
        "    image_size=image_size,\n",
        "    activation='softmax',\n",
        "    pretrained=True,\n",
        "    include_top=True,\n",
        "    pretrained_top=False,\n",
        "    classes=5\n",
        ")\n",
        "\n",
        "model.compile(optimizer='adam', loss='categorical_crossentropy', metrics=['accuracy'])\n",
        "\n",
        "history = model.fit(\n",
        "    train_generator,\n",
        "    steps_per_epoch=len(train_generator),\n",
        "    epochs=30,\n",
        "    validation_data=test_generator,\n",
        "    validation_steps=len(test_generator))\n",
        "\n",
        "test_loss, test_acc = model.evaluate(test_generator, steps=len(test_generator))\n",
        "print('Test accuracy:', test_acc)\n"
      ]
    }
  ],
  "metadata": {
    "colab": {
      "provenance": []
    },
    "kernelspec": {
      "display_name": "Python 3",
      "name": "python3"
    },
    "language_info": {
      "name": "python"
    }
  },
  "nbformat": 4,
  "nbformat_minor": 0
}
